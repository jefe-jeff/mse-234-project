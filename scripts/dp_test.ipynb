{
 "cells": [
  {
   "cell_type": "code",
   "execution_count": 31,
   "metadata": {},
   "outputs": [],
   "source": [
    "from sklearn.model_selection import train_test_split\n",
    "from sklearn.decomposition import PCA\n",
    "from diffprivlib.models import pca, logistic_regression\n",
    "from sklearn.linear_model import LogisticRegression\n",
    "import pandas as pd\n",
    "import numpy as np\n"
   ]
  },
  {
   "cell_type": "markdown",
   "metadata": {},
   "source": [
    "# Load data"
   ]
  },
  {
   "cell_type": "code",
   "execution_count": 18,
   "metadata": {},
   "outputs": [],
   "source": [
    "trump_data = pd.read_csv('../data/2016-cces-trump.csv')"
   ]
  },
  {
   "cell_type": "markdown",
   "metadata": {},
   "source": [
    "# Visualize data\n"
   ]
  },
  {
   "cell_type": "code",
   "execution_count": 19,
   "metadata": {},
   "outputs": [
    {
     "data": {
      "text/plain": [
       "<bound method NDFrame.head of          uid stateabb  inputstate  race  angryracism  whiteadv  fearraces  \\\n",
       "0          1       NH          33     1          2.0       3.0        1.0   \n",
       "1          2       LA          22     1          1.0       4.0        1.0   \n",
       "2          3       MO          29     2          NaN       NaN        NaN   \n",
       "3          4       AL           1     2          NaN       NaN        NaN   \n",
       "4          5       CO           8     1          2.0       1.0        1.0   \n",
       "...      ...      ...         ...   ...          ...       ...        ...   \n",
       "64595  64596       NY          36     2          NaN       NaN        NaN   \n",
       "64596  64597       CO           8     1          NaN       NaN        NaN   \n",
       "64597  64598       LA          22     1          NaN       NaN        NaN   \n",
       "64598  64599       RI          44     1          NaN       NaN        NaN   \n",
       "64599  64600       AL           1     1          NaN       NaN        NaN   \n",
       "\n",
       "       racerare  acograc  aemprac  ...  se_lrelig  z_acograc  z_aemprac  \\\n",
       "0           3.0      3.0      1.5  ...   0.246291   0.230760  -0.271252   \n",
       "1           1.0      2.5      1.0  ...        NaN   0.010444  -0.592603   \n",
       "2           NaN      NaN      NaN  ...   0.278047        NaN        NaN   \n",
       "3           NaN      NaN      NaN  ...   0.234668        NaN        NaN   \n",
       "4           1.0      1.0      1.5  ...   0.321913  -0.650504  -0.271252   \n",
       "...         ...      ...      ...  ...        ...        ...        ...   \n",
       "64595       NaN      NaN      NaN  ...   0.575410        NaN        NaN   \n",
       "64596       NaN      NaN      NaN  ...   0.237046        NaN        NaN   \n",
       "64597       NaN      NaN      NaN  ...   0.245402        NaN        NaN   \n",
       "64598       NaN      NaN      NaN  ...   0.509297        NaN        NaN   \n",
       "64599       NaN      NaN      NaN  ...   0.256695        NaN        NaN   \n",
       "\n",
       "       z_lcograc  z_lemprac  z_pid7na  z_lrelig    z_ideo  z_famincr     z_age  \n",
       "0       0.295012  -0.146684  0.338328 -0.102495 -0.001742        NaN -0.026144  \n",
       "1      -0.115771  -0.654787  0.103767       NaN -0.001742  -0.044765 -0.768742  \n",
       "2            NaN        NaN -0.599915  0.306842  0.920136  -0.354468  0.122376  \n",
       "3            NaN        NaN  0.103767  0.037493  0.459197  -0.819021 -0.590518  \n",
       "4      -0.746858  -0.146684 -0.365354 -0.604388 -0.462680   0.110086 -0.412295  \n",
       "...          ...        ...       ...       ...       ...        ...       ...  \n",
       "64595        NaN        NaN -0.365354  0.908217  0.459197  -0.199617 -0.649926  \n",
       "64596        NaN        NaN  0.103767 -0.053592       NaN  -0.354468 -0.531110  \n",
       "64597        NaN        NaN -0.130794 -0.090021  0.920136  -0.819021 -0.293479  \n",
       "64598        NaN        NaN -0.365354 -0.847906 -0.462680  -0.199617 -0.560814  \n",
       "64599        NaN        NaN -0.130794 -0.238283       NaN        NaN -0.174663  \n",
       "\n",
       "[64600 rows x 52 columns]>"
      ]
     },
     "execution_count": 19,
     "metadata": {},
     "output_type": "execute_result"
    }
   ],
   "source": [
    "trump_data.head\n"
   ]
  },
  {
   "cell_type": "markdown",
   "metadata": {},
   "source": [
    "### TODO: Figure out what to do about the NaNs. For now, replacing with N(0,1) noise"
   ]
  },
  {
   "cell_type": "markdown",
   "metadata": {},
   "source": [
    "# Cleaning data"
   ]
  },
  {
   "cell_type": "code",
   "execution_count": 20,
   "metadata": {},
   "outputs": [],
   "source": [
    "trump_data.dropna(subset='votetrump')\n",
    "trump_data.fillna(0, inplace = True)"
   ]
  },
  {
   "cell_type": "code",
   "execution_count": 21,
   "metadata": {},
   "outputs": [
    {
     "name": "stdout",
     "output_type": "stream",
     "text": [
      "NH\n",
      "New Hampshire\n",
      "Northeast\n",
      "New England\n",
      "3: Gen X\n"
     ]
    }
   ],
   "source": [
    "for col in trump_data.columns:\n",
    "    values = [v for v in trump_data[col].values if v!=np.nan]\n",
    "\n",
    "    if isinstance(values[0], str):\n",
    "        print(str(values[0]))\n",
    "        map = {v:i for i, v in enumerate(values)}\n",
    "        trump_data[col].replace(map, inplace=True)"
   ]
  },
  {
   "cell_type": "code",
   "execution_count": 24,
   "metadata": {},
   "outputs": [],
   "source": [
    "y = trump_data['votetrump'].to_numpy()\n",
    "X = trump_data.loc[:, trump_data.columns!='votetrump'].to_numpy()"
   ]
  },
  {
   "cell_type": "markdown",
   "metadata": {},
   "source": [
    "# Baseline Model"
   ]
  },
  {
   "cell_type": "code",
   "execution_count": 26,
   "metadata": {},
   "outputs": [],
   "source": [
    "X_train, X_test, y_train, y_test = train_test_split(X, y)"
   ]
  },
  {
   "cell_type": "code",
   "execution_count": 38,
   "metadata": {},
   "outputs": [],
   "source": [
    "pca = PCA(n_components=5)\n",
    "tX_train = pca.fit_transform(X_train)\n",
    "tX_test = pca.transform(X_test)"
   ]
  },
  {
   "cell_type": "code",
   "execution_count": 39,
   "metadata": {},
   "outputs": [],
   "source": [
    "clf = LogisticRegression(max_iter = 200).fit(tX_train, y_train)"
   ]
  },
  {
   "cell_type": "code",
   "execution_count": 41,
   "metadata": {},
   "outputs": [
    {
     "name": "stdout",
     "output_type": "stream",
     "text": [
      "Performance on training data 0.711001031991744\n",
      "Performance on test data 0.7028482972136223\n"
     ]
    }
   ],
   "source": [
    "print(f\"Performance on training data {clf.score(tX_train, y_train)}\")\n",
    "print(f\"Performance on test data {clf.score(tX_test, y_test)}\")"
   ]
  },
  {
   "cell_type": "code",
   "execution_count": null,
   "metadata": {},
   "outputs": [],
   "source": []
  }
 ],
 "metadata": {
  "interpreter": {
   "hash": "327c18d1d8ab1b8a8d933480a0c2c4a62896ddb51b9e7c8a1255f7222c7240fe"
  },
  "kernelspec": {
   "display_name": "Python 3.9.7 64-bit ('mse-234-project': conda)",
   "language": "python",
   "name": "python3"
  },
  "language_info": {
   "codemirror_mode": {
    "name": "ipython",
    "version": 3
   },
   "file_extension": ".py",
   "mimetype": "text/x-python",
   "name": "python",
   "nbconvert_exporter": "python",
   "pygments_lexer": "ipython3",
   "version": "3.9.7"
  },
  "orig_nbformat": 4
 },
 "nbformat": 4,
 "nbformat_minor": 2
}
