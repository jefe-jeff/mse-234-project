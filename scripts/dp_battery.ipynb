{
 "cells": [
  {
   "cell_type": "code",
   "execution_count": 1,
   "metadata": {},
   "outputs": [],
   "source": [
    "from sklearn.model_selection import train_test_split\n",
    "from sklearn.decomposition import PCA\n",
    "import diffprivlib.models as dpm\n",
    "from sklearn.linear_model import LogisticRegression\n",
    "from sklearn import preprocessing\n",
    "import pandas as pd\n",
    "import numpy as np\n",
    "import matplotlib.pyplot as plt\n",
    "import warnings\n",
    "from sklearn.datasets import load_breast_cancer\n",
    "warnings.filterwarnings(\"ignore\") #warnings.filterwarnings(\"default\")"
   ]
  },
  {
   "cell_type": "markdown",
   "metadata": {},
   "source": [
    "# Load data"
   ]
  },
  {
   "cell_type": "code",
   "execution_count": 10,
   "metadata": {},
   "outputs": [],
   "source": [
    "raw_data = load_breast_cancer()\n",
    "cancer_data = raw_data.data\n",
    "cancer_target = raw_data.target"
   ]
  },
  {
   "cell_type": "code",
   "execution_count": 7,
   "metadata": {},
   "outputs": [],
   "source": [
    "y = cancer_target\n",
    "X = cancer_data\n",
    "\n",
    "# X = preprocessing.normalize(X, norm='l2')"
   ]
  },
  {
   "cell_type": "code",
   "execution_count": 8,
   "metadata": {},
   "outputs": [
    {
     "data": {
      "text/plain": [
       "(44932, 5)"
      ]
     },
     "execution_count": 8,
     "metadata": {},
     "output_type": "execute_result"
    }
   ],
   "source": [
    "X.shape"
   ]
  },
  {
   "cell_type": "code",
   "execution_count": 9,
   "metadata": {},
   "outputs": [],
   "source": [
    "X_train, X_test, y_train, y_test = train_test_split(X, y)"
   ]
  },
  {
   "cell_type": "markdown",
   "metadata": {},
   "source": [
    "# Baseline Model"
   ]
  },
  {
   "cell_type": "code",
   "execution_count": 72,
   "metadata": {},
   "outputs": [],
   "source": [
    "pca = PCA(n_components=5)\n",
    "tX_train = pca.fit_transform(X_train)\n",
    "tX_test = pca.transform(X_test)"
   ]
  },
  {
   "cell_type": "code",
   "execution_count": 73,
   "metadata": {},
   "outputs": [
    {
     "data": {
      "image/png": "[encoded data removed]",
      "text/plain": [
       "<Figure size 360x360 with 1 Axes>"
      ]
     },
     "metadata": {
      "needs_background": "light"
     },
     "output_type": "display_data"
    }
   ],
   "source": [
    "fig, ax = plt.subplots(1, 1, figsize = (5, 5))\n",
    "# ax.scatter(tX_train[:, 0], tX_train[:, 1])"
   ]
  },
  {
   "cell_type": "code",
   "execution_count": 74,
   "metadata": {},
   "outputs": [],
   "source": [
    "clf = LogisticRegression(random_state = 0, max_iter = 200).fit(tX_train, y_train)"
   ]
  },
  {
   "cell_type": "code",
   "execution_count": 75,
   "metadata": {},
   "outputs": [
    {
     "name": "stdout",
     "output_type": "stream",
     "text": [
      "Performance on training data 0.7992225288584232\n",
      "Performance on test data 0.7989851330900026\n"
     ]
    }
   ],
   "source": [
    "print(f\"Performance on training data {clf.score(tX_train, y_train)}\")\n",
    "print(f\"Performance on test data {clf.score(tX_test, y_test)}\")\n",
    "\n",
    "opt_accuracy = clf.score(tX_test, y_test)"
   ]
  },
  {
   "cell_type": "markdown",
   "metadata": {},
   "source": [
    "# PCA => DP Logistic Regression"
   ]
  },
  {
   "cell_type": "code",
   "execution_count": 59,
   "metadata": {},
   "outputs": [
    {
     "data": {
      "image/png": "[encoded data removed]",
      "text/plain": [
       "<Figure size 360x360 with 1 Axes>"
      ]
     },
     "metadata": {
      "needs_background": "light"
     },
     "output_type": "display_data"
    }
   ],
   "source": [
    "pca = PCA(n_components=5)\n",
    "tX_train = pca.fit_transform(X_train)\n",
    "tX_test = pca.transform(X_test)\n",
    "fig, ax = plt.subplots(1, 1, figsize = (5, 5))\n",
    "ax.scatter(tX_train[:, 0], tX_train[:, 1])\n",
    "epsilons = np.logspace(-2, 2, 50)\n",
    "curves = []\n",
    "for _ in range(100):\n",
    "    accuracy = []\n",
    "    for epsilon in epsilons:\n",
    "        dp_clf = dpm.LogisticRegression(epsilon=epsilon, max_iter = 200).fit(tX_train, y_train, )\n",
    "        accuracy.append(dp_clf.score(tX_test, y_test))\n",
    "\n",
    "    curves += [accuracy]\n"
   ]
  },
  {
   "cell_type": "code",
   "execution_count": 60,
   "metadata": {},
   "outputs": [],
   "source": [
    "mean_score1 = np.mean(np.array(curves), axis = 0)"
   ]
  },
  {
   "cell_type": "code",
   "execution_count": 16,
   "metadata": {},
   "outputs": [
    {
     "data": {
      "text/plain": [
       "<matplotlib.collections.LineCollection at 0x7feae1cc5400>"
      ]
     },
     "execution_count": 16,
     "metadata": {},
     "output_type": "execute_result"
    },
    {
     "data": {
      "image/png": "[encoded data removed]",
      "text/plain": [
       "<Figure size 432x288 with 1 Axes>"
      ]
     },
     "metadata": {
      "needs_background": "light"
     },
     "output_type": "display_data"
    }
   ],
   "source": [
    "ax = plt.subplot(111)\n",
    "ax.plot(epsilons, mean_score)\n",
    "ax.set_title(\"PCA => DP Logistic Regression Score\")\n",
    "ax.set_xlabel(\"Epsilon\")\n",
    "ax.set_ylabel(\"Score\")\n",
    "ax.set_xscale('log')\n",
    "ax.hlines(opt_accuracy, epsilons[0],epsilons[-1] , color = \"black\")"
   ]
  },
  {
   "cell_type": "markdown",
   "metadata": {},
   "source": [
    "# DP PCA => Logistic Regression"
   ]
  },
  {
   "cell_type": "code",
   "execution_count": 23,
   "metadata": {},
   "outputs": [
    {
     "data": {
      "text/plain": [
       "array([1.00000000e-02, 1.20679264e-02, 1.45634848e-02, 1.75751062e-02,\n",
       "       2.12095089e-02, 2.55954792e-02, 3.08884360e-02, 3.72759372e-02,\n",
       "       4.49843267e-02, 5.42867544e-02, 6.55128557e-02, 7.90604321e-02,\n",
       "       9.54095476e-02, 1.15139540e-01, 1.38949549e-01, 1.67683294e-01,\n",
       "       2.02358965e-01, 2.44205309e-01, 2.94705170e-01, 3.55648031e-01,\n",
       "       4.29193426e-01, 5.17947468e-01, 6.25055193e-01, 7.54312006e-01,\n",
       "       9.10298178e-01, 1.09854114e+00, 1.32571137e+00, 1.59985872e+00,\n",
       "       1.93069773e+00, 2.32995181e+00, 2.81176870e+00, 3.39322177e+00,\n",
       "       4.09491506e+00, 4.94171336e+00, 5.96362332e+00, 7.19685673e+00,\n",
       "       8.68511374e+00, 1.04811313e+01, 1.26485522e+01, 1.52641797e+01,\n",
       "       1.84206997e+01, 2.22299648e+01, 2.68269580e+01, 3.23745754e+01,\n",
       "       3.90693994e+01, 4.71486636e+01, 5.68986603e+01, 6.86648845e+01,\n",
       "       8.28642773e+01, 1.00000000e+02])"
      ]
     },
     "execution_count": 23,
     "metadata": {},
     "output_type": "execute_result"
    }
   ],
   "source": [
    "np.logspace(-2, 2, 50)"
   ]
  },
  {
   "cell_type": "code",
   "execution_count": 92,
   "metadata": {},
   "outputs": [
    {
     "data": {
      "text/plain": [
       "array([[ 9.99715822e-01, -1.60246073e-02, -6.23041930e-03,\n",
       "        -1.14122837e-02, -1.19343460e-02],\n",
       "       [ 1.83977927e-02,  9.82887025e-01, -1.61204483e-02,\n",
       "         5.99938295e-02,  1.72439811e-01],\n",
       "       [ 7.69444137e-03,  1.65172348e-02,  2.96746533e-01,\n",
       "         8.78905471e-01, -3.73007567e-01],\n",
       "       [ 1.30597499e-02, -1.66618165e-01,  3.37554077e-01,\n",
       "         2.65675554e-01,  8.87435392e-01],\n",
       "       [-1.86354984e-04,  7.51124196e-02,  8.93140557e-01,\n",
       "        -3.91423266e-01, -2.08436712e-01]])"
      ]
     },
     "execution_count": 92,
     "metadata": {},
     "output_type": "execute_result"
    }
   ],
   "source": [
    "dp_pca.components_"
   ]
  },
  {
   "cell_type": "code",
   "execution_count": 95,
   "metadata": {},
   "outputs": [
    {
     "name": "stdout",
     "output_type": "stream",
     "text": [
      "0\n"
     ]
    }
   ],
   "source": [
    "epsilons = np.logspace(-2, 2, 50)\n",
    "curves = []\n",
    "for i in range(1):\n",
    "    accuracy = []\n",
    "    print(i)\n",
    "    for epsilon in epsilons:\n",
    "        dp_pca = dpm.PCA(n_components=5, epsilon = epsilon)\n",
    "        tX_train = dp_pca.fit_transform(X_train)\n",
    "        tX_test = dp_pca.transform(X_test)\n",
    "        dp_clf = LogisticRegression(max_iter = 200).fit(tX_train, y_train, )\n",
    "        accuracy.append(dp_clf.score(tX_test, y_test))\n",
    "\n",
    "    curves += [accuracy]\n"
   ]
  },
  {
   "cell_type": "code",
   "execution_count": 96,
   "metadata": {},
   "outputs": [],
   "source": [
    "mean_score2 = np.mean(np.array(curves), axis = 0)"
   ]
  },
  {
   "cell_type": "code",
   "execution_count": 97,
   "metadata": {},
   "outputs": [
    {
     "data": {
      "image/png": "[encoded data removed]",
      "text/plain": [
       "<Figure size 432x288 with 1 Axes>"
      ]
     },
     "metadata": {
      "needs_background": "light"
     },
     "output_type": "display_data"
    }
   ],
   "source": [
    "ax = plt.subplot(111)\n",
    "ax.plot(epsilons, mean_score1, label = \"PCA => DP log reg\")\n",
    "ax.plot(epsilons, mean_score2, label = \"DP PCA => log reg\")\n",
    "ax.set_title(\"Test Set Mean Prediction Accuracy\")\n",
    "ax.legend()\n",
    "ax.set_xlabel(\"Epsilon\")\n",
    "ax.set_ylabel(\"Score\")\n",
    "ax.set_xscale('log')\n",
    "# ax.hlines(opt_accuracy, epsilons[0],epsilons[-1] , color = \"black\")"
   ]
  },
  {
   "cell_type": "code",
   "execution_count": 19,
   "metadata": {},
   "outputs": [
    {
     "name": "stdout",
     "output_type": "stream",
     "text": [
      "Performance on training data 0.8025868391226082\n",
      "Performance on test data 0.7993412267426333\n"
     ]
    }
   ],
   "source": [
    "clf_dfPCA = LogisticRegression(random_state = 0, max_iter = 200).fit(tX_train, y_train[1:15000])\n",
    "print(f\"Performance on training data {clf_dfPCA.score(tX_train, y_train[1:15000])}\")\n",
    "print(f\"Performance on test data {clf_dfPCA.score(tX_test, y_test)}\")"
   ]
  }
 ],
 "metadata": {
  "interpreter": {
   "hash": "327c18d1d8ab1b8a8d933480a0c2c4a62896ddb51b9e7c8a1255f7222c7240fe"
  },
  "kernelspec": {
   "display_name": "Python 3",
   "language": "python",
   "name": "python3"
  },
  "language_info": {
   "codemirror_mode": {
    "name": "ipython",
    "version": 3
   },
   "file_extension": ".py",
   "mimetype": "text/x-python",
   "name": "python",
   "nbconvert_exporter": "python",
   "pygments_lexer": "ipython3",
   "version": "3.9.7"
  }
 },
 "nbformat": 4,
 "nbformat_minor": 2
}
